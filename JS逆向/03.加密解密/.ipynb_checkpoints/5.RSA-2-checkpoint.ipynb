{
 "cells": [
  {
   "cell_type": "code",
   "execution_count": 1,
   "id": "f0373778-0b43-4209-a78b-205eb85201d1",
   "metadata": {},
   "outputs": [],
   "source": [
    "# 公钥格式和js代码中常见的格式一致"
   ]
  },
  {
   "cell_type": "code",
   "execution_count": 2,
   "id": "27b4d3fc-8d8b-4258-97da-a93221dffbf9",
   "metadata": {},
   "outputs": [],
   "source": [
    "from base64 import b64decode, b64encode"
   ]
  },
  {
   "cell_type": "code",
   "execution_count": 3,
   "id": "754123ee-c6ec-41c7-abf2-a25d505e839e",
   "metadata": {},
   "outputs": [
    {
     "data": {
      "text/plain": [
       "b'0\\x81\\x9f0\\r\\x06\\t*\\x86H\\x86\\xf7\\r\\x01\\x01\\x01\\x05\\x00\\x03\\x81\\x8d\\x000\\x81\\x89\\x02\\x81\\x81\\x00\\xc0\\xe5\\x9a\\xbae\\xd1\\xffD\\xc4\\xaf\\x0b\\xc5\\x8a\\x86\\x9e`\\x8f\\xa5\\x1e\\xe0\\xba\\xa3\\xa3D6>|\\x86m)\\x13\\x95\\x89.\\xd0{U\\xcd\\xb8wK\\xd1}\\xa0v\\xf1x\\xeey\\x13\\xcbD\\x11\\x0ep\\x8f\\xff\\xb9\\xd9S\\x0bj\\xf7.\\xc2@\\xf2\\xa4n\\xba7\\xa75\\xcfAh\\xd8x1Ww\\xb4\\xb6\\xabu\\xc3#m\\x99\\xbc \\xee\\xbb\\x88baL\\xf9\\xd1+\"\\x94\\xe2-\\x10\\xef;/\\xb4\\xbe\\x03\\xdc\\x05P\\xdfIA\\xf0Q(\\x14\\xb4\\x892\\x0b\\x8e\\xd45\\x02\\x03\\x01\\x00\\x01'"
      ]
     },
     "execution_count": 3,
     "metadata": {},
     "output_type": "execute_result"
    }
   ],
   "source": [
    "public_key_der = b64decode('MIGfMA0GCSqGSIb3DQEBAQUAA4GNADCBiQKBgQDA5Zq6ZdH/RMSvC8WKhp5gj6Ue4Lqjo0Q2PnyGbSkTlYku0HtVzbh3S9F9oHbxeO55E8tEEQ5wj/+52VMLavcuwkDypG66N6c1z0Fo2HgxV3e0tqt1wyNtmbwg7ruIYmFM+dErIpTiLRDvOy+0vgPcBVDfSUHwUSgUtIkyC47UNQIDAQAB')\n",
    "\n",
    "public_key_der"
   ]
  },
  {
   "cell_type": "code",
   "execution_count": 4,
   "id": "9b4a0d33-0133-453f-8fae-58e181ff8f20",
   "metadata": {},
   "outputs": [],
   "source": [
    "from cryptography.hazmat.primitives import serialization, hashes\n",
    "from cryptography.hazmat.backends import default_backend"
   ]
  },
  {
   "cell_type": "code",
   "execution_count": 5,
   "id": "c6d9ab84-4878-4fdb-9050-5bca7a1e0aed",
   "metadata": {},
   "outputs": [
    {
     "data": {
      "text/plain": [
       "<cryptography.hazmat.bindings._rust.openssl.rsa.RSAPublicKey at 0x18b9f0b27d0>"
      ]
     },
     "execution_count": 5,
     "metadata": {},
     "output_type": "execute_result"
    }
   ],
   "source": [
    "public_key = serialization.load_der_public_key(public_key_der, backend=default_backend())\n",
    "\n",
    "public_key"
   ]
  },
  {
   "cell_type": "code",
   "execution_count": 6,
   "id": "e97e1ed2-842b-4c3e-a456-42a437e1dc67",
   "metadata": {},
   "outputs": [],
   "source": [
    "from cryptography.hazmat.primitives.asymmetric import padding"
   ]
  },
  {
   "cell_type": "code",
   "execution_count": 7,
   "id": "11fd40f2-2938-4d87-b6e6-90c29270ec0e",
   "metadata": {},
   "outputs": [
    {
     "data": {
      "text/plain": [
       "b\",\\xc78\\x0c\\xde\\xba}\\xf2\\xfb\\xa0\\x8e\\x8cx\\xdf\\xb7\\xf5\\xd3\\xb3\\x89\\xcfE\\xb3\\x04\\xc8\\xf8\\xdcx\\xc2\\x06\\xea^\\x92\\xe3\\xba`\\x8b\\xf3/\\xb0\\x8d;j\\x0b\\xe4\\xf8\\xe1\\x8bN@\\xc4Y\\x14\\xbb<'\\xeb\\xfa\\x17\\\\s.f\\xf4\\x85\\xff3\\x14\\xc1;NRK\\xa0,\\x07\\x1e\\xee\\xdb$Z\\x82\\xfc\\x8f\\xee|\\x0c\\xdc\\x1de\\n\\xd8}/Wu}{a|\\x96\\xf7S/\\x97\\xec\\xb89ZbA\\x16Z\\xac\\x82\\xb6\\x10\\xcc\\xb2\\x95\\xb9\\x9f\\x8f\\xa0\\x93H`vS\""
      ]
     },
     "execution_count": 7,
     "metadata": {},
     "output_type": "execute_result"
    }
   ],
   "source": [
    "response = public_key.encrypt('123456'.encode(),\n",
    "                              padding.OAEP(mgf=padding.MGF1(algorithm=hashes.SHA256()),\n",
    "                                           algorithm=hashes.SHA256(),\n",
    "                                           label=None))\n",
    "\n",
    "response"
   ]
  },
  {
   "cell_type": "code",
   "execution_count": 8,
   "id": "359bbb64-b4fc-4f6a-acc2-185b07cc7081",
   "metadata": {},
   "outputs": [
    {
     "name": "stdout",
     "output_type": "stream",
     "text": [
      "LMc4DN66ffL7oI6MeN+39dOzic9FswTI+Nx4wgbqXpLjumCL8y+wjTtqC+T44YtOQMRZFLs8J+v6F1xzLmb0hf8zFME7TlJLoCwHHu7bJFqC/I/ufAzcHWUK2H0vV3V9e2F8lvdTL5fsuDlaYkEWWqyCthDMspW5n4+gk0hgdlM=\n"
     ]
    }
   ],
   "source": [
    "print(b64encode(response).decode())"
   ]
  },
  {
   "cell_type": "code",
   "execution_count": null,
   "id": "d550331e-21e3-43dc-91c9-6a4186538681",
   "metadata": {},
   "outputs": [],
   "source": []
  }
 ],
 "metadata": {
  "kernelspec": {
   "display_name": "Python 3 (ipykernel)",
   "language": "python",
   "name": "python3"
  },
  "language_info": {
   "codemirror_mode": {
    "name": "ipython",
    "version": 3
   },
   "file_extension": ".py",
   "mimetype": "text/x-python",
   "name": "python",
   "nbconvert_exporter": "python",
   "pygments_lexer": "ipython3",
   "version": "3.13.5"
  }
 },
 "nbformat": 4,
 "nbformat_minor": 5
}
