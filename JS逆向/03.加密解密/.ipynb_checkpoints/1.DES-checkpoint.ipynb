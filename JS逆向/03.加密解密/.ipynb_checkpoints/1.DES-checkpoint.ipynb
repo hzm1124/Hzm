{
 "cells": [
  {
   "cell_type": "code",
   "execution_count": 1,
   "id": "1a1f11bf-7773-4959-b540-ecb6fbd3aead",
   "metadata": {},
   "outputs": [],
   "source": [
    "from Crypto.Cipher import DES"
   ]
  },
  {
   "cell_type": "code",
   "execution_count": 2,
   "id": "dbde6d6f-111b-4f43-afcd-5b594edeffdf",
   "metadata": {},
   "outputs": [
    {
     "data": {
      "text/plain": [
       "<Crypto.Cipher._mode_ecb.EcbMode at 0x1c0f6fb86e0>"
      ]
     },
     "execution_count": 2,
     "metadata": {},
     "output_type": "execute_result"
    }
   ],
   "source": [
    "des = DES.new('abcd1234'.encode(), DES.MODE_ECB)\n",
    "\n",
    "des"
   ]
  },
  {
   "cell_type": "code",
   "execution_count": 3,
   "id": "c86f7ba7-2d8b-4f2f-bb18-b469e6c7d7b4",
   "metadata": {},
   "outputs": [
    {
     "data": {
      "text/plain": [
       "b'\\xa0\\xb8\\x18\\xb2\\x10\\x01D\\xe6'"
      ]
     },
     "execution_count": 3,
     "metadata": {},
     "output_type": "execute_result"
    }
   ],
   "source": [
    "response = des.encrypt('机密ab'.encode())\n",
    "\n",
    "response"
   ]
  },
  {
   "cell_type": "code",
   "execution_count": 4,
   "id": "982e21e9-4fc5-4cf6-98fd-d0be95b93641",
   "metadata": {},
   "outputs": [],
   "source": [
    "from base64 import b64encode, b64decode"
   ]
  },
  {
   "cell_type": "code",
   "execution_count": 5,
   "id": "ee79ba49-8ebd-4901-9bb1-311f48962095",
   "metadata": {},
   "outputs": [
    {
     "data": {
      "text/plain": [
       "'oLgYshABROY='"
      ]
     },
     "execution_count": 5,
     "metadata": {},
     "output_type": "execute_result"
    }
   ],
   "source": [
    "response = b64encode(response).decode()\n",
    "\n",
    "response"
   ]
  },
  {
   "cell_type": "code",
   "execution_count": 6,
   "id": "c453ff79-9036-4f19-908f-94197723c45d",
   "metadata": {},
   "outputs": [
    {
     "data": {
      "text/plain": [
       "'机密ab'"
      ]
     },
     "execution_count": 6,
     "metadata": {},
     "output_type": "execute_result"
    }
   ],
   "source": [
    "des_2 = DES.new('abcd1234'.encode(), DES.MODE_ECB)\n",
    "\n",
    "des_2.decrypt(b64decode(response.encode())).decode()"
   ]
  },
  {
   "cell_type": "code",
   "execution_count": 7,
   "id": "fc1242da-c1ba-46ce-85da-3e031328e720",
   "metadata": {},
   "outputs": [
    {
     "data": {
      "text/plain": [
       "<Crypto.Cipher._mode_cbc.CbcMode at 0x1c0f6fb8590>"
      ]
     },
     "execution_count": 7,
     "metadata": {},
     "output_type": "execute_result"
    }
   ],
   "source": [
    "des_3 = DES.new('abcd1234'.encode(), DES.MODE_CBC, iv='12345678'.encode())\n",
    "\n",
    "des_3"
   ]
  },
  {
   "cell_type": "code",
   "execution_count": 8,
   "id": "31418a11-7c8b-4c7c-8b7e-2fe434b800a4",
   "metadata": {},
   "outputs": [],
   "source": [
    "from Crypto.Util.Padding import pad, unpad"
   ]
  },
  {
   "cell_type": "code",
   "execution_count": 9,
   "id": "04bd1487-4e17-4e48-8aa4-dc02896b6472",
   "metadata": {},
   "outputs": [
    {
     "data": {
      "text/plain": [
       "b'\\x1c=\\x05_v\\x95\\x8e\\xb9\\x8d\\xe6vKy\\xe3g\\xf0'"
      ]
     },
     "execution_count": 9,
     "metadata": {},
     "output_type": "execute_result"
    }
   ],
   "source": [
    "response = des_3.encrypt(pad('机密abcd'.encode(), 8, style='x923'))\n",
    "\n",
    "response"
   ]
  },
  {
   "cell_type": "code",
   "execution_count": 10,
   "id": "c075627b-a30f-4f42-b20e-03d614061875",
   "metadata": {},
   "outputs": [
    {
     "data": {
      "text/plain": [
       "'HD0FX3aVjrmN5nZLeeNn8A=='"
      ]
     },
     "execution_count": 10,
     "metadata": {},
     "output_type": "execute_result"
    }
   ],
   "source": [
    "response = b64encode(response).decode()\n",
    "\n",
    "response"
   ]
  },
  {
   "cell_type": "code",
   "execution_count": 11,
   "id": "7f12dfa2-a463-4896-aca5-9b8809344a04",
   "metadata": {},
   "outputs": [
    {
     "data": {
      "text/plain": [
       "'机密abcd\\x00\\x00\\x00\\x00\\x00\\x06'"
      ]
     },
     "execution_count": 11,
     "metadata": {},
     "output_type": "execute_result"
    }
   ],
   "source": [
    "des_4 = DES.new('abcd1234'.encode(), DES.MODE_CBC, iv='12345678'.encode())\n",
    "\n",
    "des_4.decrypt(b64decode(response.encode())).decode()"
   ]
  },
  {
   "cell_type": "code",
   "execution_count": 12,
   "id": "467ba319-d4be-44a8-86b2-18829e355c4f",
   "metadata": {},
   "outputs": [
    {
     "data": {
      "text/plain": [
       "'机密abcd'"
      ]
     },
     "execution_count": 12,
     "metadata": {},
     "output_type": "execute_result"
    }
   ],
   "source": [
    "des_5 = DES.new('abcd1234'.encode(), DES.MODE_CBC, iv='12345678'.encode())\n",
    "\n",
    "unpad(des_5.decrypt(b64decode(response.encode())), 8, style='x923').decode()"
   ]
  },
  {
   "cell_type": "code",
   "execution_count": null,
   "id": "5188fe6b-70d3-42f6-a2ec-3b962c57e6b5",
   "metadata": {},
   "outputs": [],
   "source": []
  }
 ],
 "metadata": {
  "kernelspec": {
   "display_name": "Python 3 (ipykernel)",
   "language": "python",
   "name": "python3"
  },
  "language_info": {
   "codemirror_mode": {
    "name": "ipython",
    "version": 3
   },
   "file_extension": ".py",
   "mimetype": "text/x-python",
   "name": "python",
   "nbconvert_exporter": "python",
   "pygments_lexer": "ipython3",
   "version": "3.13.5"
  }
 },
 "nbformat": 4,
 "nbformat_minor": 5
}
