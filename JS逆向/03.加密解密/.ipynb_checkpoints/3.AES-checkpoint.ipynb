{
 "cells": [
  {
   "cell_type": "code",
   "execution_count": 1,
   "id": "9be1bc1d-25af-4066-beee-959f8e69d526",
   "metadata": {},
   "outputs": [],
   "source": [
    "from Crypto.Cipher import AES"
   ]
  },
  {
   "cell_type": "code",
   "execution_count": 2,
   "id": "ba8e0662-fed4-42b4-93d5-18b25af5f281",
   "metadata": {},
   "outputs": [
    {
     "data": {
      "text/plain": [
       "<Crypto.Cipher._mode_cbc.CbcMode at 0x1bcc6efc980>"
      ]
     },
     "execution_count": 2,
     "metadata": {},
     "output_type": "execute_result"
    }
   ],
   "source": [
    "aes = AES.new('abcd123412345678'.encode(), AES.MODE_CBC, iv='12345678abcdefg1'.encode())\n",
    "\n",
    "aes"
   ]
  },
  {
   "cell_type": "code",
   "execution_count": 3,
   "id": "1805f31d-1d9d-43e5-8598-1f6b8e820729",
   "metadata": {},
   "outputs": [],
   "source": [
    "from Crypto.Util.Padding import pad, unpad"
   ]
  },
  {
   "cell_type": "code",
   "execution_count": 4,
   "id": "21d5b817-ef5f-4b54-8bb3-3968bfced969",
   "metadata": {},
   "outputs": [
    {
     "data": {
      "text/plain": [
       "b'\\x02\\xe2i\\xa9\\\\\\x8c?\\xcf\\x05(D\\\\\\xb6:ru'"
      ]
     },
     "execution_count": 4,
     "metadata": {},
     "output_type": "execute_result"
    }
   ],
   "source": [
    "response = aes.encrypt(pad('机密'.encode(), 16, style='x923'))\n",
    "\n",
    "response"
   ]
  },
  {
   "cell_type": "code",
   "execution_count": 5,
   "id": "ff7c5258-f0de-4a87-81f0-a9b6d1fba2c0",
   "metadata": {},
   "outputs": [],
   "source": [
    "from base64 import b64encode, b64decode"
   ]
  },
  {
   "cell_type": "code",
   "execution_count": 6,
   "id": "09a7d904-60a3-482f-b502-7ef8fbb02afb",
   "metadata": {},
   "outputs": [
    {
     "data": {
      "text/plain": [
       "'AuJpqVyMP88FKERctjpydQ=='"
      ]
     },
     "execution_count": 6,
     "metadata": {},
     "output_type": "execute_result"
    }
   ],
   "source": [
    "response = b64encode(response).decode()\n",
    "\n",
    "response"
   ]
  },
  {
   "cell_type": "code",
   "execution_count": 7,
   "id": "7fdf025d-87da-4330-9406-9efbbdcea5df",
   "metadata": {},
   "outputs": [
    {
     "data": {
      "text/plain": [
       "'机密'"
      ]
     },
     "execution_count": 7,
     "metadata": {},
     "output_type": "execute_result"
    }
   ],
   "source": [
    "aes_2 = AES.new('abcd123412345678'.encode(), AES.MODE_CBC, iv='12345678abcdefg1'.encode())\n",
    "\n",
    "unpad(aes_2.decrypt(b64decode(response.encode())), 16, style='x923').decode()"
   ]
  },
  {
   "cell_type": "code",
   "execution_count": null,
   "id": "764abb63-c3b1-49d8-b079-b0d97b0137d1",
   "metadata": {},
   "outputs": [],
   "source": []
  }
 ],
 "metadata": {
  "kernelspec": {
   "display_name": "Python 3 (ipykernel)",
   "language": "python",
   "name": "python3"
  },
  "language_info": {
   "codemirror_mode": {
    "name": "ipython",
    "version": 3
   },
   "file_extension": ".py",
   "mimetype": "text/x-python",
   "name": "python",
   "nbconvert_exporter": "python",
   "pygments_lexer": "ipython3",
   "version": "3.13.5"
  }
 },
 "nbformat": 4,
 "nbformat_minor": 5
}
