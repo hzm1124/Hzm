{
 "cells": [
  {
   "cell_type": "code",
   "execution_count": 1,
   "id": "cea873e0-b89e-4d9b-839b-45592eca894f",
   "metadata": {},
   "outputs": [],
   "source": [
    "from Crypto.Cipher import DES3"
   ]
  },
  {
   "cell_type": "code",
   "execution_count": 2,
   "id": "eca20f87-ebe6-4421-82fe-9d92dcb7c6c0",
   "metadata": {},
   "outputs": [
    {
     "data": {
      "text/plain": [
       "<Crypto.Cipher._mode_cbc.CbcMode at 0x125a6a98c20>"
      ]
     },
     "execution_count": 2,
     "metadata": {},
     "output_type": "execute_result"
    }
   ],
   "source": [
    "des3 = DES3.new('abcd123412345678'.encode(), DES3.MODE_CBC, iv='12345678'.encode())\n",
    "\n",
    "des3"
   ]
  },
  {
   "cell_type": "code",
   "execution_count": 3,
   "id": "3f700575-eae3-4f11-9d1c-7a754305ab86",
   "metadata": {},
   "outputs": [],
   "source": [
    "from Crypto.Util.Padding import pad, unpad"
   ]
  },
  {
   "cell_type": "code",
   "execution_count": 4,
   "id": "a3f4a6cb-91b3-4988-ab84-f9c9a8ca5ca8",
   "metadata": {},
   "outputs": [
    {
     "data": {
      "text/plain": [
       "b'<J\\xc8\\xdf\\x1a\\xebe\\x9d'"
      ]
     },
     "execution_count": 4,
     "metadata": {},
     "output_type": "execute_result"
    }
   ],
   "source": [
    "response = des3.encrypt(pad('机密'.encode(), 8, style='x923'))\n",
    "\n",
    "response"
   ]
  },
  {
   "cell_type": "code",
   "execution_count": 5,
   "id": "73380d9f-a708-4074-941d-a0c94c5fa958",
   "metadata": {},
   "outputs": [],
   "source": [
    "from base64 import b64encode, b64decode"
   ]
  },
  {
   "cell_type": "code",
   "execution_count": 6,
   "id": "55594700-09a2-423e-a581-db46ae7b65c2",
   "metadata": {},
   "outputs": [
    {
     "data": {
      "text/plain": [
       "'PErI3xrrZZ0='"
      ]
     },
     "execution_count": 6,
     "metadata": {},
     "output_type": "execute_result"
    }
   ],
   "source": [
    "response = b64encode(response).decode()\n",
    "\n",
    "response"
   ]
  },
  {
   "cell_type": "code",
   "execution_count": 7,
   "id": "1f9a84ee-57e0-4ea3-9de6-4bd070de30fe",
   "metadata": {},
   "outputs": [
    {
     "data": {
      "text/plain": [
       "'机密'"
      ]
     },
     "execution_count": 7,
     "metadata": {},
     "output_type": "execute_result"
    }
   ],
   "source": [
    "des3_2 = DES3.new('abcd123412345678'.encode(), DES3.MODE_CBC, iv='12345678'.encode())\n",
    "\n",
    "unpad(des3_2.decrypt(b64decode(response.encode())), 8, style='x923').decode()"
   ]
  },
  {
   "cell_type": "code",
   "execution_count": 8,
   "id": "e151905d-2703-4555-924b-21ed4990cd7c",
   "metadata": {},
   "outputs": [
    {
     "data": {
      "text/plain": [
       "<Crypto.Cipher._mode_cbc.CbcMode at 0x125a68b3d90>"
      ]
     },
     "execution_count": 8,
     "metadata": {},
     "output_type": "execute_result"
    }
   ],
   "source": [
    "des3_3 = DES3.new('abcd12341234567887651234'.encode(), DES3.MODE_CBC, iv='12345678'.encode())\n",
    "\n",
    "des3_3"
   ]
  },
  {
   "cell_type": "code",
   "execution_count": 9,
   "id": "c1487ed2-3bcd-46f8-873c-eb936bb16ece",
   "metadata": {},
   "outputs": [
    {
     "data": {
      "text/plain": [
       "b'\\x08P\\xd0\\xdd\\x0c\\xbb\\xdc='"
      ]
     },
     "execution_count": 9,
     "metadata": {},
     "output_type": "execute_result"
    }
   ],
   "source": [
    "response = des3_3.encrypt(pad('机密'.encode(), 8, style='x923'))\n",
    "\n",
    "response"
   ]
  },
  {
   "cell_type": "code",
   "execution_count": 10,
   "id": "cd24d090-5be2-420f-8b9d-bcef524aeae3",
   "metadata": {},
   "outputs": [
    {
     "data": {
      "text/plain": [
       "'CFDQ3Qy73D0='"
      ]
     },
     "execution_count": 10,
     "metadata": {},
     "output_type": "execute_result"
    }
   ],
   "source": [
    "response = b64encode(response).decode()\n",
    "\n",
    "response"
   ]
  },
  {
   "cell_type": "code",
   "execution_count": 11,
   "id": "5a9267da-97b8-45e8-9a2d-e786aa24518d",
   "metadata": {},
   "outputs": [
    {
     "data": {
      "text/plain": [
       "'机密'"
      ]
     },
     "execution_count": 11,
     "metadata": {},
     "output_type": "execute_result"
    }
   ],
   "source": [
    "des3_4 = DES3.new('abcd12341234567887651234'.encode(), DES3.MODE_CBC, iv='12345678'.encode())\n",
    "\n",
    "unpad(des3_4.decrypt(b64decode(response.encode())), 8, style='x923').decode()"
   ]
  },
  {
   "cell_type": "code",
   "execution_count": null,
   "id": "b97534d2-0ccb-410a-a51c-c19e8368c0a2",
   "metadata": {},
   "outputs": [],
   "source": []
  }
 ],
 "metadata": {
  "kernelspec": {
   "display_name": "Python 3 (ipykernel)",
   "language": "python",
   "name": "python3"
  },
  "language_info": {
   "codemirror_mode": {
    "name": "ipython",
    "version": 3
   },
   "file_extension": ".py",
   "mimetype": "text/x-python",
   "name": "python",
   "nbconvert_exporter": "python",
   "pygments_lexer": "ipython3",
   "version": "3.13.5"
  }
 },
 "nbformat": 4,
 "nbformat_minor": 5
}
