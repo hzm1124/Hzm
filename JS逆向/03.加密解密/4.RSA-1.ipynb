{
 "cells": [
  {
   "cell_type": "code",
   "execution_count": 1,
   "id": "aaedf4ad-7b21-4f32-b80a-16a628dce79c",
   "metadata": {},
   "outputs": [],
   "source": [
    "# 公钥需要遵循特定格式"
   ]
  },
  {
   "cell_type": "code",
   "execution_count": 1,
   "id": "3671ec61-e77f-4b62-addc-42c2703ed69a",
   "metadata": {},
   "outputs": [],
   "source": [
    "from Crypto.PublicKey import RSA"
   ]
  },
  {
   "cell_type": "code",
   "execution_count": 2,
   "id": "0c3f26b5-0b7f-4d00-9058-31e423e3477a",
   "metadata": {
    "scrolled": true
   },
   "outputs": [
    {
     "data": {
      "text/plain": [
       "RsaKey(n=22994941694905647352934455530748947259824018510541487268281675084441676302921279304529807114475563369891713293195127019030908412758472274748645852155624460972562150530435828651929985021936318616415766937143341046948066923750653006679003469180779743789652436503829601374031969139818648774342877860766240673044871932928163835383464760083622821616341957178815706922585260957202214762204092956278750172237001771472893452246760691360168175964128083624156158073790266769304191480008774145117912055912488925793136940946930251946751251313114788740038001685090598309460670419786200402435867887013019470708117072061167493268289, e=65537, d=9480847758335680564011808946036091122689546426802287676827427902661069859487554939769899721382489247567694354264393047915439770223639765872456163252775204234853622678531310954175505825377134524530729792461513624816267396229097988822700958858871316308958275276103264701278939196591844431870834836439943684122513872387438185313260972519370196659837695490695832006117034293245992590759215055152758779478070061079093749621636691179244910703060416196561486913044126700436210729396399624516321019817602528548758899978449810298636700160796846443569889131532987302038939271385937769368689766472876854757821676422007286340421, p=129945911510952165455444108456037824169142841015061610780307534480087469353513284690097035389951512984074456609672311763771117113604994855172771317642557179536833625220805121099040562565413544618696027313807117615776041292623793823623947674290471826127012804149545473557757309250871726600860272926908815055507, q=176957792881137136251262757226493703138986967468949882883297063724954115670361431347864412127229467513630547061787545807337671235465522569581063828788510020303313497715623729917019945447803817816311605765625069213409116299379898903230240531903069053418925998419668007923452303629697781845928232180071508052827, u=82693311454717229100807674232976468747182639695680143580246651678865047416298111822902254984956428639731927154255546607565240890989840402753037734683115209395010242507172816893305122386214395357293268379518721335308448962750873092621429950204239947916461896779240205331210917764065075608470579760839808843184)"
      ]
     },
     "execution_count": 2,
     "metadata": {},
     "output_type": "execute_result"
    }
   ],
   "source": [
    "key = RSA.generate(256 * 8)\n",
    "\n",
    "key"
   ]
  },
  {
   "cell_type": "code",
   "execution_count": 3,
   "id": "e903fcff-cdfd-4ff9-a50d-6ea257e8d984",
   "metadata": {},
   "outputs": [],
   "source": [
    "with open('./rsa/private_key.pem', 'wb') as f:\n",
    "    f.write(key.export_key(format='PEM'))\n",
    "\n",
    "with open('./rsa/public_key.pem', 'wb') as f:\n",
    "    f.write(key.publickey().export_key(format='PEM'))"
   ]
  },
  {
   "cell_type": "code",
   "execution_count": 4,
   "id": "e4728a5d-e5a8-4afe-9a28-25cae0da64c3",
   "metadata": {},
   "outputs": [],
   "source": [
    "from Crypto.Cipher import PKCS1_OAEP"
   ]
  },
  {
   "cell_type": "code",
   "execution_count": 5,
   "id": "fdd98261-a6cd-4bb8-81bd-8c0f2a4efeb8",
   "metadata": {},
   "outputs": [
    {
     "data": {
      "text/plain": [
       "(RsaKey(n=22994941694905647352934455530748947259824018510541487268281675084441676302921279304529807114475563369891713293195127019030908412758472274748645852155624460972562150530435828651929985021936318616415766937143341046948066923750653006679003469180779743789652436503829601374031969139818648774342877860766240673044871932928163835383464760083622821616341957178815706922585260957202214762204092956278750172237001771472893452246760691360168175964128083624156158073790266769304191480008774145117912055912488925793136940946930251946751251313114788740038001685090598309460670419786200402435867887013019470708117072061167493268289, e=65537),\n",
       " 2048,\n",
       " 256)"
      ]
     },
     "execution_count": 5,
     "metadata": {},
     "output_type": "execute_result"
    }
   ],
   "source": [
    "with open('./rsa/public_key.pem', 'r', encoding='utf-8') as f:\n",
    "    public_key = RSA.import_key(f.read())\n",
    "\n",
    "public_key, public_key.size_in_bits(), public_key.size_in_bytes()"
   ]
  },
  {
   "cell_type": "code",
   "execution_count": 6,
   "id": "e87cd6e5-ea91-42db-ab21-0df02a90cfd9",
   "metadata": {},
   "outputs": [
    {
     "data": {
      "text/plain": [
       "<Crypto.Cipher.PKCS1_OAEP.PKCS1OAEP_Cipher at 0x275c484fe00>"
      ]
     },
     "execution_count": 6,
     "metadata": {},
     "output_type": "execute_result"
    }
   ],
   "source": [
    "rsa = PKCS1_OAEP.new(public_key)\n",
    "\n",
    "rsa"
   ]
  },
  {
   "cell_type": "code",
   "execution_count": 7,
   "id": "23d4c1ab-6c5a-462e-9054-81cd5e79ba70",
   "metadata": {},
   "outputs": [],
   "source": [
    "from base64 import b64encode"
   ]
  },
  {
   "cell_type": "code",
   "execution_count": 8,
   "id": "f9cf224e-c3df-4eea-a942-862ca20175fe",
   "metadata": {},
   "outputs": [
    {
     "data": {
      "text/plain": [
       "b'hApqghTG6wvwbHEv7x/mdawYQaHQwhL4brybvz7FLswLQgNRIqrWCjWLZISiEBkI8wRODTEwV5JHlMSPIOrqnEodUEHurKXOXnjrK0n8vUC5Dy5i3vRdN24qZpYy89K1iC08ePCVDZSimyeao9JoP3YOs7fANkC+3J189sY+B90ZFOkEILRpszeLK6waB4CukB/EDoCVMiqJ05lTB7t9DNZqs9iwQL5GDHkPsFQ4gUua0GfBxqow6Kjnhu84y0+FTjV6w665iy/vbNOJsSTJNHzcjt4fjbHQimdrPRiZtdnCK4ONFLOJarxpzctfiUSRNx3BBNYij6CkpcbC2SUs5A=='"
      ]
     },
     "execution_count": 8,
     "metadata": {},
     "output_type": "execute_result"
    }
   ],
   "source": [
    "b64encode(rsa.encrypt('哈哈哈'.encode()))"
   ]
  },
  {
   "cell_type": "code",
   "execution_count": 9,
   "id": "e59468fc-5198-46ba-b61c-e3fd82ea3119",
   "metadata": {},
   "outputs": [
    {
     "data": {
      "text/plain": [
       "b'jwBRvU58mSs3XRvPC4zov5VRdzSp6g3271hWkryAeCXUMkSyBj1DvUffRmraSxZJuy6MyduJLGsi/lPRDG6APOI0B+65vhp6JWVYN8bwN7Z3jj0iH0Bdh1doRBzcIbfTb17xPAuVyjzf/10XENF4miHdFlZtBY9K0273Ff8KiyQdIetJK0MlcY2JBVAD80jz4rOh9bmFPcHhCtr9Alsgc+3nS/i95n1J9vJk/ZGV9SGZFu/kUYP0GvF+xXsBR8WdBCTyJIBRwDVfngUAZsb86C+x6s5HcyzKJHLg28TbWOSHndBVfBYvXC6UbOV+EBAnWKm8LieFtv6/G8DFqkIUhg=='"
      ]
     },
     "execution_count": 9,
     "metadata": {},
     "output_type": "execute_result"
    }
   ],
   "source": [
    "b64encode(rsa.encrypt('哈哈哈'.encode()))"
   ]
  },
  {
   "cell_type": "code",
   "execution_count": null,
   "id": "7038d45a-29b7-410e-8a2d-5982017af1ba",
   "metadata": {},
   "outputs": [],
   "source": []
  }
 ],
 "metadata": {
  "kernelspec": {
   "display_name": "Python 3 (ipykernel)",
   "language": "python",
   "name": "python3"
  },
  "language_info": {
   "codemirror_mode": {
    "name": "ipython",
    "version": 3
   },
   "file_extension": ".py",
   "mimetype": "text/x-python",
   "name": "python",
   "nbconvert_exporter": "python",
   "pygments_lexer": "ipython3",
   "version": "3.13.5"
  }
 },
 "nbformat": 4,
 "nbformat_minor": 5
}
