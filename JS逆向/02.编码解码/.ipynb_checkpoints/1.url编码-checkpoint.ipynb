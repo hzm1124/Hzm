{
 "cells": [
  {
   "cell_type": "code",
   "execution_count": 1,
   "id": "e06a518c-9bf9-4268-9a0b-ddf9d135fd68",
   "metadata": {},
   "outputs": [],
   "source": [
    "from urllib.parse import quote, unquote"
   ]
  },
  {
   "cell_type": "code",
   "execution_count": 2,
   "id": "532f5d55-bdca-4228-b4a2-34a35fbd1522",
   "metadata": {},
   "outputs": [
    {
     "data": {
      "text/plain": [
       "'https%3A//%20www.hao123.com/'"
      ]
     },
     "execution_count": 2,
     "metadata": {},
     "output_type": "execute_result"
    }
   ],
   "source": [
    "url = 'https:// www.hao123.com/'\n",
    "response = quote(url)\n",
    "\n",
    "response"
   ]
  },
  {
   "cell_type": "code",
   "execution_count": 3,
   "id": "8d8b7127-bd10-4507-bdd8-2b47556ee2bd",
   "metadata": {},
   "outputs": [
    {
     "data": {
      "text/plain": [
       "'https:// www.hao123.com/'"
      ]
     },
     "execution_count": 3,
     "metadata": {},
     "output_type": "execute_result"
    }
   ],
   "source": [
    "unquote(response)"
   ]
  },
  {
   "cell_type": "code",
   "execution_count": 4,
   "id": "8d7a4773-e827-4539-9710-d996c59c8417",
   "metadata": {},
   "outputs": [],
   "source": [
    "from urllib.parse import quote_plus, unquote_plus"
   ]
  },
  {
   "cell_type": "code",
   "execution_count": 5,
   "id": "3c315f63-2bd3-44d1-8e42-ad6654f9a81f",
   "metadata": {},
   "outputs": [
    {
     "data": {
      "text/plain": [
       "'https%3A//%20www.hao123.com/'"
      ]
     },
     "execution_count": 5,
     "metadata": {},
     "output_type": "execute_result"
    }
   ],
   "source": [
    "response = quote_plus(url)\n",
    "\n",
    "response"
   ]
  },
  {
   "cell_type": "code",
   "execution_count": 6,
   "id": "9352388f-07be-4b6a-86d5-5a3248367e83",
   "metadata": {},
   "outputs": [
    {
     "data": {
      "text/plain": [
       "'https:// www.hao123.com/'"
      ]
     },
     "execution_count": 6,
     "metadata": {},
     "output_type": "execute_result"
    }
   ],
   "source": [
    "unquote_plus(response)"
   ]
  },
  {
   "cell_type": "code",
   "execution_count": null,
   "id": "50eec817-d8f8-4f22-96b1-02739a1c957a",
   "metadata": {},
   "outputs": [],
   "source": []
  }
 ],
 "metadata": {
  "kernelspec": {
   "display_name": "Python 3 (ipykernel)",
   "language": "python",
   "name": "python3"
  },
  "language_info": {
   "codemirror_mode": {
    "name": "ipython",
    "version": 3
   },
   "file_extension": ".py",
   "mimetype": "text/x-python",
   "name": "python",
   "nbconvert_exporter": "python",
   "pygments_lexer": "ipython3",
   "version": "3.13.5"
  }
 },
 "nbformat": 4,
 "nbformat_minor": 5
}
