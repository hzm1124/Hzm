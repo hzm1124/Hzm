{
 "cells": [
  {
   "cell_type": "code",
   "execution_count": 1,
   "id": "7f49d30c-e9cd-46e2-bacd-076ac5342761",
   "metadata": {},
   "outputs": [],
   "source": [
    "from base64 import b64encode, b64decode"
   ]
  },
  {
   "cell_type": "code",
   "execution_count": 2,
   "id": "dd0d9a72-1290-417e-b7c8-2d65058f859c",
   "metadata": {},
   "outputs": [
    {
     "data": {
      "text/plain": [
       "'YWJjYWJjYWI+Pj4/MQ=='"
      ]
     },
     "execution_count": 2,
     "metadata": {},
     "output_type": "execute_result"
    }
   ],
   "source": [
    "response = b64encode('abcabcab>>>?1'.encode()).decode()\n",
    "\n",
    "response"
   ]
  },
  {
   "cell_type": "code",
   "execution_count": 3,
   "id": "d7315d3f-c9d4-4d5d-bee1-e1bac09ba34a",
   "metadata": {},
   "outputs": [
    {
     "data": {
      "text/plain": [
       "'YWJjYWJjYWI-Pj4_MQ=='"
      ]
     },
     "execution_count": 3,
     "metadata": {},
     "output_type": "execute_result"
    }
   ],
   "source": [
    "response = b64encode('abcabcab>>>?1'.encode())\n",
    "response = response.decode().replace('+', '-').replace('/', '_')\n",
    "\n",
    "response"
   ]
  },
  {
   "cell_type": "code",
   "execution_count": null,
   "id": "6277e803-96b4-4e4e-8ed3-c6d3b1087912",
   "metadata": {},
   "outputs": [],
   "source": []
  }
 ],
 "metadata": {
  "kernelspec": {
   "display_name": "Python 3 (ipykernel)",
   "language": "python",
   "name": "python3"
  },
  "language_info": {
   "codemirror_mode": {
    "name": "ipython",
    "version": 3
   },
   "file_extension": ".py",
   "mimetype": "text/x-python",
   "name": "python",
   "nbconvert_exporter": "python",
   "pygments_lexer": "ipython3",
   "version": "3.13.5"
  }
 },
 "nbformat": 4,
 "nbformat_minor": 5
}
