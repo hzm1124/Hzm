{
 "cells": [
  {
   "cell_type": "code",
   "execution_count": 8,
   "id": "294fbbe2-fa88-4acf-8025-90cbcd97ba26",
   "metadata": {},
   "outputs": [
    {
     "name": "stdout",
     "output_type": "stream",
     "text": [
      "tfy3hIVJ+Pn87ibIhIcpjeQ3uxiA0ubi7wtPASTi/AwN/71RIzZUKTSSTPyHBDZ+\n",
      "\n",
      "{\"status\":false,\"code\":401,\"msg\":\"图形验证码有误\",\"data\":null}\n",
      "<Response [200]>\n"
     ]
    }
   ],
   "source": [
    "from time import time\n",
    "import execjs\n",
    "import requests\n",
    "\n",
    "\n",
    "timestamp = int(time())\n",
    "NonceStr = f'{timestamp}abcde'\n",
    "username = '13756268412'\n",
    "password = '123456'\n",
    "code = '9u9m'\n",
    "\n",
    "with open('./js_signature.js', 'r', encoding='utf-8') as f:\n",
    "    js = execjs.compile(f.read())\n",
    "\n",
    "signature = js.call('get_signature', timestamp, NonceStr, username, password, code)\n",
    "print(signature)\n",
    "print()\n",
    "\n",
    "headers = {\n",
    "    \"Accept\": \"application/json, text/plain, */*\",\n",
    "    \"Accept-Language\": \"zh-CN,zh;q=0.9,en;q=0.8\",\n",
    "    \"Access-Token;\": \"\",\n",
    "    \"App-Id\": \"4ac490420ac63db4\",\n",
    "    \"App-Ver;\": \"\",\n",
    "    \"CHOST\": \"www.epwk.com\",\n",
    "    \"Cache-Control\": \"no-cache\",\n",
    "    \"Connection\": \"keep-alive\",\n",
    "    \"Content-Type\": \"application/x-www-form-urlencoded\",\n",
    "    \"Device-Os\": \"web\",\n",
    "    \"Device-Ver;\": \"\",\n",
    "    \"Imei;\": \"\",\n",
    "    \"NonceStr\": NonceStr,\n",
    "    \"Origin\": \"https://www.epwk.com\",\n",
    "    \"Os-Ver;\": \"\",\n",
    "    \"Pragma\": \"no-cache\",\n",
    "    \"Referer\": \"https://www.epwk.com/login.html\",\n",
    "    \"Sec-Fetch-Dest\": \"empty\",\n",
    "    \"Sec-Fetch-Mode\": \"cors\",\n",
    "    \"Sec-Fetch-Site\": \"same-origin\",\n",
    "    \"Signature\": signature,\n",
    "    \"Timestemp\": str(timestamp),\n",
    "    \"User-Agent\": \"Mozilla/5.0 (Windows NT 10.0; Win64; x64) AppleWebKit/537.36 (KHTML, like Gecko) Chrome/138.0.0.0 Safari/537.36\",\n",
    "    \"X-REQUEST-ID\": \"6b5c940d11fac42adc95817ba523104e\",\n",
    "    \"sec-ch-ua\": \"\\\"Not)A;Brand\\\";v=\\\"8\\\", \\\"Chromium\\\";v=\\\"138\\\", \\\"Google Chrome\\\";v=\\\"138\\\"\",\n",
    "    \"sec-ch-ua-mobile\": \"?0\",\n",
    "    \"sec-ch-ua-platform\": \"\\\"Windows\\\"\"\n",
    "}\n",
    "cookies = {\n",
    "    \"login_fail_need_graphics\": \"1\",\n",
    "    \"HWWAFSESID\": \"f75df732e53904bd3c\",\n",
    "    \"HWWAFSESTIME\": \"1754526782448\",\n",
    "    \"Hm_lvt_387b8f4fdb89d4ea233922bdc6466394\": \"1754466695,1754526782\",\n",
    "    \"Hm_lpvt_387b8f4fdb89d4ea233922bdc6466394\": \"1754526782\",\n",
    "    \"HMACCOUNT\": \"180D1B1278F51E25\",\n",
    "    \"PHPSESSID\": \"418dc4c15dd3074295146f4a0740cf431cff2163\",\n",
    "    \"time_diff\": \"-1\",\n",
    "    \"XDEBUG_SESSION\": \"XDEBUG_ECLIPSE\",\n",
    "    \"banners_show_cookie_ip\": \"112.111.13.248\"\n",
    "}\n",
    "url = \"https://www.epwk.com/api/epwk/v1/user/login\"\n",
    "data = {\n",
    "    \"username\": username,\n",
    "    \"password\": password,\n",
    "    \"code\": code,\n",
    "    \"hdn_refer\": \"\"\n",
    "}\n",
    "response = requests.post(url, headers=headers, cookies=cookies, data=data)\n",
    "\n",
    "print(response.text)\n",
    "print(response)\n"
   ]
  },
  {
   "cell_type": "code",
   "execution_count": null,
   "id": "cf1012df-56d3-4e0a-b578-a7a2f3f74acc",
   "metadata": {},
   "outputs": [],
   "source": []
  }
 ],
 "metadata": {
  "kernelspec": {
   "display_name": "Python 3 (ipykernel)",
   "language": "python",
   "name": "python3"
  },
  "language_info": {
   "codemirror_mode": {
    "name": "ipython",
    "version": 3
   },
   "file_extension": ".py",
   "mimetype": "text/x-python",
   "name": "python",
   "nbconvert_exporter": "python",
   "pygments_lexer": "ipython3",
   "version": "3.13.5"
  }
 },
 "nbformat": 4,
 "nbformat_minor": 5
}
