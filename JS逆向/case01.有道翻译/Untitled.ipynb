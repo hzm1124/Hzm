{
 "cells": [
  {
   "cell_type": "code",
   "execution_count": 22,
   "id": "4d615d51-d412-45ac-ab40-513a4bd33c7e",
   "metadata": {},
   "outputs": [
    {
     "name": "stdout",
     "output_type": "stream",
     "text": [
      "Z21kD9ZK1ke6ugku2ccWuwRmpItPkRr5XcmzOgAKD0GcaHTZL9kyNKkN2aYY6yiO4hftCMBLQ3gAoIs672Pzz8Et8dtzMf22b1KtkfpWsOHKKARlNG-Ez19X7PJWIs06LszZxtqNjA5Jwvmi9By01a7J-fT7W6dHr9vbBrVUw6cDgg7FSeqpcXNGTgdgFH3f\n",
      "<Response [200]>\n"
     ]
    }
   ],
   "source": [
    "import requests\n",
    "\n",
    "\n",
    "headers = {\n",
    "    \"Accept\": \"application/json, text/plain, */*\",\n",
    "    \"Accept-Language\": \"zh-CN,zh;q=0.9,en;q=0.8\",\n",
    "    \"Connection\": \"keep-alive\",\n",
    "    \"Content-Type\": \"application/x-www-form-urlencoded\",\n",
    "    \"Origin\": \"https://fanyi.youdao.com\",\n",
    "    \"Referer\": \"https://fanyi.youdao.com/\",\n",
    "    \"Sec-Fetch-Dest\": \"empty\",\n",
    "    \"Sec-Fetch-Mode\": \"cors\",\n",
    "    \"Sec-Fetch-Site\": \"same-site\",\n",
    "    \"User-Agent\": \"Mozilla/5.0 (Windows NT 10.0; Win64; x64) AppleWebKit/537.36 (KHTML, like Gecko) Chrome/138.0.0.0 Safari/537.36\",\n",
    "    \"sec-ch-ua\": \"\\\"Not)A;Brand\\\";v=\\\"8\\\", \\\"Chromium\\\";v=\\\"138\\\", \\\"Google Chrome\\\";v=\\\"138\\\"\",\n",
    "    \"sec-ch-ua-mobile\": \"?0\",\n",
    "    \"sec-ch-ua-platform\": \"\\\"Windows\\\"\"\n",
    "}\n",
    "cookies = {\n",
    "    \"OUTFOX_SEARCH_USER_ID\": \"833037699@112.111.13.248\",\n",
    "    \"OUTFOX_SEARCH_USER_ID_NCOO\": \"156434621.5219573\",\n",
    "    \"_uetsid\": \"01bace206d1411f08349c7f9cddd94a1\",\n",
    "    \"_uetvid\": \"01bac8306d1411f090b515714d1d03b6\",\n",
    "    \"DICT_DOCTRANS_SESSION_ID\": \"MDA3MzUwNTEtMTA1NC00ZWFiLWI2YmQtODk4YWNiNjliMDAz\"\n",
    "}\n",
    "url = \"https://dict.youdao.com/webtranslate\"\n",
    "data = {\n",
    "    \"i\": \"卧槽1\",\n",
    "    \"from\": \"zh-CHS\",\n",
    "    \"to\": \"en\",\n",
    "    # \"useTerm\": \"false\",\n",
    "    # \"domain\": \"0\",\n",
    "    # \"dictResult\": \"true\",\n",
    "    \"keyid\": \"webfanyi\",\n",
    "    \"sign\": \"44e8aa36c6e425bc71e5e072ed4c1d60\",\n",
    "    \"client\": \"fanyideskweb\",\n",
    "    \"product\": \"webfanyi\",\n",
    "    \"appVersion\": \"1.0.0\",\n",
    "    \"vendor\": \"web\",\n",
    "    \"pointParam\": \"client,mysticTime,product\",\n",
    "    \"mysticTime\": \"1753860906518\",\n",
    "    # \"keyfrom\": \"fanyi.web\",\n",
    "    # \"mid\": \"1\",\n",
    "    # \"screen\": \"1\",\n",
    "    # \"model\": \"1\",\n",
    "    # \"network\": \"wifi\",\n",
    "    # \"abtest\": \"0\",\n",
    "    # \"yduuid\": \"abcdefg\"\n",
    "}\n",
    "response = requests.post(url, data=data)\n",
    "\n",
    "print(response.text)\n",
    "print(response)"
   ]
  },
  {
   "cell_type": "code",
   "execution_count": null,
   "id": "161d0c39-4e97-4506-9f40-77a1f393c8cb",
   "metadata": {},
   "outputs": [],
   "source": []
  }
 ],
 "metadata": {
  "kernelspec": {
   "display_name": "Python 3 (ipykernel)",
   "language": "python",
   "name": "python3"
  },
  "language_info": {
   "codemirror_mode": {
    "name": "ipython",
    "version": 3
   },
   "file_extension": ".py",
   "mimetype": "text/x-python",
   "name": "python",
   "nbconvert_exporter": "python",
   "pygments_lexer": "ipython3",
   "version": "3.13.5"
  }
 },
 "nbformat": 4,
 "nbformat_minor": 5
}
