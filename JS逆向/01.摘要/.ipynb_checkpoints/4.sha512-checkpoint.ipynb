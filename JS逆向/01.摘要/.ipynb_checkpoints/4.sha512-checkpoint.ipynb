{
 "cells": [
  {
   "cell_type": "code",
   "execution_count": 1,
   "id": "bb49edc7-ae38-4593-90dc-3001ad92797d",
   "metadata": {},
   "outputs": [],
   "source": [
    "from hashlib import sha512"
   ]
  },
  {
   "cell_type": "code",
   "execution_count": 2,
   "id": "407c8554-7aac-453a-a298-7c5bed8a20c6",
   "metadata": {},
   "outputs": [
    {
     "data": {
      "text/plain": [
       "<sha512 _hashlib.HASH object @ 0x000001FCDE63F750>"
      ]
     },
     "execution_count": 2,
     "metadata": {},
     "output_type": "execute_result"
    }
   ],
   "source": [
    "sha512_ = sha512()\n",
    "\n",
    "sha512_"
   ]
  },
  {
   "cell_type": "code",
   "execution_count": 3,
   "id": "d2702605-28b2-4c60-80cf-c0858be5dfb0",
   "metadata": {},
   "outputs": [
    {
     "name": "stdout",
     "output_type": "stream",
     "text": [
      "ba3253876aed6bc22d4a6ff53d8406c6ad864195ed144ab5c87621b6c233b548baeae6956df346ec8c17f5ea10f35ee3cbc514797ed7ddd3145464e2a0bab413 128\n"
     ]
    }
   ],
   "source": [
    "sha512_.update('123456'.encode())\n",
    "response = sha512_.hexdigest()\n",
    "\n",
    "print(response, len(response))"
   ]
  },
  {
   "cell_type": "code",
   "execution_count": null,
   "id": "9c617df7-45e4-4381-ad0f-537f26e7ae5f",
   "metadata": {},
   "outputs": [],
   "source": []
  }
 ],
 "metadata": {
  "kernelspec": {
   "display_name": "Python 3 (ipykernel)",
   "language": "python",
   "name": "python3"
  },
  "language_info": {
   "codemirror_mode": {
    "name": "ipython",
    "version": 3
   },
   "file_extension": ".py",
   "mimetype": "text/x-python",
   "name": "python",
   "nbconvert_exporter": "python",
   "pygments_lexer": "ipython3",
   "version": "3.13.5"
  }
 },
 "nbformat": 4,
 "nbformat_minor": 5
}
