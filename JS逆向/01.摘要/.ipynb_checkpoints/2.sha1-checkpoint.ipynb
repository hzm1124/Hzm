{
 "cells": [
  {
   "cell_type": "code",
   "execution_count": 1,
   "id": "dc320246-b2a7-4d66-a3b0-c2b8b64a49a6",
   "metadata": {},
   "outputs": [],
   "source": [
    "from hashlib import sha1"
   ]
  },
  {
   "cell_type": "code",
   "execution_count": 2,
   "id": "21b04882-6ad0-4be0-b34d-884a46878dc2",
   "metadata": {},
   "outputs": [
    {
     "data": {
      "text/plain": [
       "<sha1 _hashlib.HASH object @ 0x000001FECAE0B5F0>"
      ]
     },
     "execution_count": 2,
     "metadata": {},
     "output_type": "execute_result"
    }
   ],
   "source": [
    "sha1_ = sha1()\n",
    "\n",
    "sha1_"
   ]
  },
  {
   "cell_type": "code",
   "execution_count": 3,
   "id": "e4f38f53-f624-41da-9ea1-89abca497cbc",
   "metadata": {},
   "outputs": [
    {
     "name": "stdout",
     "output_type": "stream",
     "text": [
      "7c4a8d09ca3762af61e59520943dc26494f8941b 40\n"
     ]
    }
   ],
   "source": [
    "sha1_.update('123456'.encode())\n",
    "response = sha1_.hexdigest()\n",
    "\n",
    "print(response, len(response))"
   ]
  },
  {
   "cell_type": "code",
   "execution_count": null,
   "id": "599e6d13-b41d-4363-9b4a-4a250edbdc24",
   "metadata": {},
   "outputs": [],
   "source": []
  }
 ],
 "metadata": {
  "kernelspec": {
   "display_name": "Python 3 (ipykernel)",
   "language": "python",
   "name": "python3"
  },
  "language_info": {
   "codemirror_mode": {
    "name": "ipython",
    "version": 3
   },
   "file_extension": ".py",
   "mimetype": "text/x-python",
   "name": "python",
   "nbconvert_exporter": "python",
   "pygments_lexer": "ipython3",
   "version": "3.13.5"
  }
 },
 "nbformat": 4,
 "nbformat_minor": 5
}
