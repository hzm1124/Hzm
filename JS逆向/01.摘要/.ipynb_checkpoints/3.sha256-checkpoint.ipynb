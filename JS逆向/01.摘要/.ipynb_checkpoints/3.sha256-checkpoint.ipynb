{
 "cells": [
  {
   "cell_type": "code",
   "execution_count": 1,
   "id": "0e4e7caf-fc6e-449e-92ee-aad70a273689",
   "metadata": {},
   "outputs": [],
   "source": [
    "from hashlib import sha256"
   ]
  },
  {
   "cell_type": "code",
   "execution_count": 2,
   "id": "2191ba3d-0137-43d1-a979-5adfdf9e1ebb",
   "metadata": {},
   "outputs": [
    {
     "data": {
      "text/plain": [
       "<sha256 _hashlib.HASH object @ 0x000002092634FE70>"
      ]
     },
     "execution_count": 2,
     "metadata": {},
     "output_type": "execute_result"
    }
   ],
   "source": [
    "sha256_ = sha256()\n",
    "\n",
    "sha256_"
   ]
  },
  {
   "cell_type": "code",
   "execution_count": 3,
   "id": "d28bd533-0255-4202-9eae-a7033d3bc56a",
   "metadata": {},
   "outputs": [
    {
     "name": "stdout",
     "output_type": "stream",
     "text": [
      "8d969eef6ecad3c29a3a629280e686cf0c3f5d5a86aff3ca12020c923adc6c92 64\n"
     ]
    }
   ],
   "source": [
    "sha256_.update('123456'.encode())\n",
    "response = sha256_.hexdigest()\n",
    "\n",
    "print(response, len(response))"
   ]
  },
  {
   "cell_type": "code",
   "execution_count": null,
   "id": "7c38ebfe-13fa-4a4a-9b59-5d6f425095de",
   "metadata": {},
   "outputs": [],
   "source": []
  }
 ],
 "metadata": {
  "kernelspec": {
   "display_name": "Python 3 (ipykernel)",
   "language": "python",
   "name": "python3"
  },
  "language_info": {
   "codemirror_mode": {
    "name": "ipython",
    "version": 3
   },
   "file_extension": ".py",
   "mimetype": "text/x-python",
   "name": "python",
   "nbconvert_exporter": "python",
   "pygments_lexer": "ipython3",
   "version": "3.13.5"
  }
 },
 "nbformat": 4,
 "nbformat_minor": 5
}
