{
 "cells": [
  {
   "cell_type": "code",
   "execution_count": 1,
   "id": "2ded93cb-a3f1-45e3-9a6e-1a3c7ea5310b",
   "metadata": {},
   "outputs": [],
   "source": [
    "from hashlib import md5"
   ]
  },
  {
   "cell_type": "code",
   "execution_count": 2,
   "id": "38fac74f-5105-4c20-8e62-9ecf01d57de0",
   "metadata": {},
   "outputs": [
    {
     "data": {
      "text/plain": [
       "<md5 _hashlib.HASH object @ 0x000001FA6DF02370>"
      ]
     },
     "execution_count": 2,
     "metadata": {},
     "output_type": "execute_result"
    }
   ],
   "source": [
    "md5_ = md5()\n",
    "\n",
    "md5_"
   ]
  },
  {
   "cell_type": "code",
   "execution_count": 3,
   "id": "2849cdf3-7ff6-4875-a730-47cf957bb8ee",
   "metadata": {},
   "outputs": [
    {
     "name": "stdout",
     "output_type": "stream",
     "text": [
      "e62567a6c6c3ae2adf50e5cbe6575afe 32\n"
     ]
    }
   ],
   "source": [
    "md5_.update('123456'.encode())\n",
    "md5_.update('fuck'.encode())\n",
    "response = md5_.hexdigest()\n",
    "\n",
    "print(response, len(response))"
   ]
  },
  {
   "cell_type": "code",
   "execution_count": 4,
   "id": "7a26600a-8eb0-404f-99bf-bdd4cd03a03a",
   "metadata": {},
   "outputs": [
    {
     "name": "stdout",
     "output_type": "stream",
     "text": [
      "e62567a6c6c3ae2adf50e5cbe6575afe 32\n"
     ]
    }
   ],
   "source": [
    "md5_2 = md5()\n",
    "md5_2.update('123456fuck'.encode())\n",
    "response = md5_2.hexdigest()\n",
    "print(response, len(response))"
   ]
  },
  {
   "cell_type": "code",
   "execution_count": null,
   "id": "5d257c5a-d98a-41b8-809b-d5e2d0f2facc",
   "metadata": {},
   "outputs": [],
   "source": []
  }
 ],
 "metadata": {
  "kernelspec": {
   "display_name": "Python 3 (ipykernel)",
   "language": "python",
   "name": "python3"
  },
  "language_info": {
   "codemirror_mode": {
    "name": "ipython",
    "version": 3
   },
   "file_extension": ".py",
   "mimetype": "text/x-python",
   "name": "python",
   "nbconvert_exporter": "python",
   "pygments_lexer": "ipython3",
   "version": "3.13.5"
  }
 },
 "nbformat": 4,
 "nbformat_minor": 5
}
