{
 "cells": [
  {
   "cell_type": "code",
   "execution_count": 1,
   "id": "39108a40-f08b-44b8-9fa9-c1258fe6b745",
   "metadata": {},
   "outputs": [],
   "source": [
    "from hashlib import md5"
   ]
  },
  {
   "cell_type": "code",
   "execution_count": 2,
   "id": "75510eac-0fec-4d90-8594-c9b579922784",
   "metadata": {},
   "outputs": [
    {
     "data": {
      "text/plain": [
       "<md5 _hashlib.HASH object @ 0x000001EDC44322B0>"
      ]
     },
     "execution_count": 2,
     "metadata": {},
     "output_type": "execute_result"
    }
   ],
   "source": [
    "md5_ = md5()\n",
    "\n",
    "md5_"
   ]
  },
  {
   "cell_type": "code",
   "execution_count": 3,
   "id": "8fe92343-3108-466a-aa34-ec7d95e19fa9",
   "metadata": {},
   "outputs": [
    {
     "name": "stdout",
     "output_type": "stream",
     "text": [
      "e10adc3949ba59abbe56e057f20f883e 32\n"
     ]
    }
   ],
   "source": [
    "md5_.update('123456'.encode())\n",
    "response = md5_.hexdigest()\n",
    "\n",
    "print(response, len(response))"
   ]
  },
  {
   "cell_type": "code",
   "execution_count": null,
   "id": "f67e4a9c-3923-49ba-bf84-83106d10d845",
   "metadata": {},
   "outputs": [],
   "source": []
  }
 ],
 "metadata": {
  "kernelspec": {
   "display_name": "Python 3 (ipykernel)",
   "language": "python",
   "name": "python3"
  },
  "language_info": {
   "codemirror_mode": {
    "name": "ipython",
    "version": 3
   },
   "file_extension": ".py",
   "mimetype": "text/x-python",
   "name": "python",
   "nbconvert_exporter": "python",
   "pygments_lexer": "ipython3",
   "version": "3.13.5"
  }
 },
 "nbformat": 4,
 "nbformat_minor": 5
}
